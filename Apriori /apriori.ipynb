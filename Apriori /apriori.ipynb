{
 "cells": [
  {
   "cell_type": "code",
   "execution_count": 2,
   "metadata": {},
   "outputs": [
    {
     "data": {
      "text/html": [
       "<div>\n",
       "<style scoped>\n",
       "    .dataframe tbody tr th:only-of-type {\n",
       "        vertical-align: middle;\n",
       "    }\n",
       "\n",
       "    .dataframe tbody tr th {\n",
       "        vertical-align: top;\n",
       "    }\n",
       "\n",
       "    .dataframe thead th {\n",
       "        text-align: right;\n",
       "    }\n",
       "</style>\n",
       "<table border=\"1\" class=\"dataframe\">\n",
       "  <thead>\n",
       "    <tr style=\"text-align: right;\">\n",
       "      <th></th>\n",
       "      <th>category</th>\n",
       "    </tr>\n",
       "  </thead>\n",
       "  <tbody>\n",
       "    <tr>\n",
       "      <th>0</th>\n",
       "      <td>Breakfast &amp; Brunch;American (Traditional);Rest...</td>\n",
       "    </tr>\n",
       "    <tr>\n",
       "      <th>1</th>\n",
       "      <td>Sandwiches;Restaurants</td>\n",
       "    </tr>\n",
       "    <tr>\n",
       "      <th>2</th>\n",
       "      <td>Local Services;IT Services &amp; Computer Repair</td>\n",
       "    </tr>\n",
       "    <tr>\n",
       "      <th>3</th>\n",
       "      <td>Restaurants;Italian</td>\n",
       "    </tr>\n",
       "    <tr>\n",
       "      <th>4</th>\n",
       "      <td>Food;Coffee &amp; Tea</td>\n",
       "    </tr>\n",
       "  </tbody>\n",
       "</table>\n",
       "</div>"
      ],
      "text/plain": [
       "                                            category\n",
       "0  Breakfast & Brunch;American (Traditional);Rest...\n",
       "1                             Sandwiches;Restaurants\n",
       "2       Local Services;IT Services & Computer Repair\n",
       "3                                Restaurants;Italian\n",
       "4                                  Food;Coffee & Tea"
      ]
     },
     "execution_count": 2,
     "metadata": {},
     "output_type": "execute_result"
    }
   ],
   "source": [
    "import pandas as pd\n",
    "import numpy as np\n",
    "from itertools import combinations\n",
    "from collections import Counter\n",
    "\n",
    "categories = pd.read_table('categories.txt', header=None, names=['category'])\n",
    "categories.head()"
   ]
  },
  {
   "cell_type": "code",
   "execution_count": 6,
   "metadata": {},
   "outputs": [],
   "source": [
    "def apriori(data, sup = 0.01):\n",
    "    # set minimum support\n",
    "    n = data.shape[0]\n",
    "    min_sup = np.floor(n*sup)\n",
    "\n",
    "    # unique list of categories\n",
    "    categories_list = [set(category_list) for category_list in data.category.str.split(';')]\n",
    "\n",
    "    # result dictionary\n",
    "    rules = dict()\n",
    "\n",
    "    i = 1\n",
    "    # Finding combinations greater than min support\n",
    "    while(True):\n",
    "        join = Counter(tuple(sorted(comb)) for category_list in categories_list for comb in combinations(category_list, i))\n",
    "        [rules.update({key: value}) for key, value in join.items() if value > min_sup]\n",
    "        i += 1\n",
    "        if all([value < min_sup for value in list(join.values())]):\n",
    "            break\n",
    "    return rules\n"
   ]
  },
  {
   "cell_type": "code",
   "execution_count": 3,
   "metadata": {},
   "outputs": [],
   "source": [
    "rules = apriori(categories)"
   ]
  },
  {
   "cell_type": "code",
   "execution_count": 4,
   "metadata": {},
   "outputs": [],
   "source": [
    "# Part 1\n",
    "keys = list(zip(*rules.items()))[0]\n",
    "keys = [key for key in keys if len(key)==1]\n",
    "\n",
    "one_rules = dict()\n",
    "for key in keys:\n",
    "    one_rules.update({key: rules.get(key)})\n",
    "\n",
    "# Save Part 1\n",
    "with open('patterns1.txt', 'w') as file:\n",
    "    for key, value in one_rules.items():\n",
    "        file.write(str(value) + \":\" + str(key[0])+'\\n')"
   ]
  },
  {
   "cell_type": "code",
   "execution_count": 5,
   "metadata": {},
   "outputs": [],
   "source": [
    "# Save Part 2\n",
    "with open('patterns2.txt', 'w') as file:\n",
    "    for key, value in rules.items():\n",
    "        file.write(str(value)+':'+';'.join(key) +'\\n')"
   ]
  }
 ],
 "metadata": {
  "kernelspec": {
   "display_name": "afq",
   "language": "python",
   "name": "python3"
  },
  "language_info": {
   "codemirror_mode": {
    "name": "ipython",
    "version": 3
   },
   "file_extension": ".py",
   "mimetype": "text/x-python",
   "name": "python",
   "nbconvert_exporter": "python",
   "pygments_lexer": "ipython3",
   "version": "3.1.0"
  },
  "orig_nbformat": 4
 },
 "nbformat": 4,
 "nbformat_minor": 2
}
